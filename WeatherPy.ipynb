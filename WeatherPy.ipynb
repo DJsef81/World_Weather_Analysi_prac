{
 "cells": [
  {
   "cell_type": "code",
   "execution_count": null,
   "id": "psychological-waterproof",
   "metadata": {},
   "outputs": [],
   "source": [
    "# Create Latitude and Longitude Combinations"
   ]
  },
  {
   "cell_type": "code",
   "execution_count": 8,
   "id": "involved-blond",
   "metadata": {},
   "outputs": [],
   "source": [
    "# Import the dependencies.\n",
    "import pandas as pd\n",
    "import matplotlib.pyplot as plt\n",
    "import numpy as np\n",
    "# Use the citipy module to determine city based on latitude and longitude.\n",
    "from citipy import citipy\n",
    "\n",
    "# Import the requests library.\n",
    "import requests\n",
    "# Import the API key.\n",
    "from config import weather_api_key\n",
    "# Import the datetime module from the datetime library.\n",
    "from datetime import datetime"
   ]
  },
  {
   "cell_type": "code",
   "execution_count": 9,
   "id": "opened-fetish",
   "metadata": {},
   "outputs": [],
   "source": [
    "url = \"http://api.openweathermap.org/data/2.5/weather?units=Imperial&APPID=\" + weather_api_key"
   ]
  },
  {
   "cell_type": "code",
   "execution_count": 10,
   "id": "legendary-steam",
   "metadata": {},
   "outputs": [
    {
     "data": {
      "text/plain": [
       "<zip at 0x7fa2d174a840>"
      ]
     },
     "execution_count": 10,
     "metadata": {},
     "output_type": "execute_result"
    }
   ],
   "source": [
    "# Create a set of random latitude and longitude combinations.\n",
    "lats = np.random.uniform(low=-90.000, high=90.000, size=1500)\n",
    "lngs = np.random.uniform(low=-180.000, high=180.000, size=1500)\n",
    "lat_lngs = zip(lats, lngs)\n",
    "lat_lngs"
   ]
  },
  {
   "cell_type": "code",
   "execution_count": 11,
   "id": "silver-writing",
   "metadata": {},
   "outputs": [],
   "source": [
    "# Add the latitudes and longitudes to a list.\n",
    "coordinates = list(lat_lngs)"
   ]
  },
  {
   "cell_type": "code",
   "execution_count": 12,
   "id": "disciplinary-relay",
   "metadata": {},
   "outputs": [],
   "source": [
    "# coordinates"
   ]
  },
  {
   "cell_type": "code",
   "execution_count": 13,
   "id": "limiting-authentication",
   "metadata": {},
   "outputs": [
    {
     "data": {
      "text/plain": [
       "628"
      ]
     },
     "execution_count": 13,
     "metadata": {},
     "output_type": "execute_result"
    }
   ],
   "source": [
    "# Create a list for holding the cities.\n",
    "cities = []\n",
    "# Identify the nearest city for each latitude and longitude combination.\n",
    "for coordinate in coordinates:\n",
    "    city = citipy.nearest_city(coordinate[0], coordinate[1]).city_name\n",
    "\n",
    "    # If the city is unique, then we will add it to the cities list.\n",
    "    if city not in cities:\n",
    "        cities.append(city)\n",
    "# Print the city count to confirm sufficient count.\n",
    "len(cities)"
   ]
  },
  {
   "cell_type": "code",
   "execution_count": 14,
   "id": "occupied-accuracy",
   "metadata": {},
   "outputs": [
    {
     "name": "stdout",
     "output_type": "stream",
     "text": [
      "Beginning Data Retrieval     \n",
      "-----------------------------\n",
      "Processing Record 1 of Set 13 | east london\n",
      "Processing Record 2 of Set 13 | khatanga\n",
      "Processing Record 3 of Set 13 | felanitx\n",
      "Processing Record 4 of Set 13 | sibolga\n",
      "Processing Record 5 of Set 13 | punta arenas\n",
      "Processing Record 6 of Set 13 | dunedin\n",
      "Processing Record 7 of Set 13 | porbandar\n",
      "Processing Record 8 of Set 13 | rikitea\n",
      "Processing Record 9 of Set 13 | saldanha\n",
      "Processing Record 10 of Set 13 | taolanaro\n",
      "City not found. Skipping...\n",
      "Processing Record 11 of Set 13 | key west\n",
      "Processing Record 12 of Set 13 | ushuaia\n",
      "Processing Record 13 of Set 13 | bemidji\n",
      "Processing Record 14 of Set 13 | hilo\n",
      "Processing Record 15 of Set 13 | kanniyakumari\n",
      "Processing Record 16 of Set 13 | mataura\n",
      "Processing Record 17 of Set 13 | limbang\n",
      "Processing Record 18 of Set 13 | albany\n",
      "Processing Record 19 of Set 13 | yakeshi\n",
      "Processing Record 20 of Set 13 | jalu\n",
      "Processing Record 21 of Set 13 | krasnoselkup\n",
      "Processing Record 22 of Set 13 | arraial do cabo\n",
      "Processing Record 23 of Set 13 | kruisfontein\n",
      "Processing Record 24 of Set 13 | shuangyang\n",
      "Processing Record 25 of Set 13 | aklavik\n",
      "Processing Record 26 of Set 13 | la asuncion\n",
      "Processing Record 27 of Set 13 | tasiilaq\n",
      "Processing Record 28 of Set 13 | new norfolk\n",
      "Processing Record 29 of Set 13 | karratha\n",
      "Processing Record 30 of Set 13 | puerto ayora\n",
      "Processing Record 31 of Set 13 | carnarvon\n",
      "Processing Record 32 of Set 13 | nanortalik\n",
      "Processing Record 33 of Set 13 | ust-ilimsk\n",
      "Processing Record 34 of Set 13 | anadyr\n",
      "Processing Record 35 of Set 13 | port alfred\n",
      "Processing Record 36 of Set 13 | avarua\n",
      "Processing Record 37 of Set 13 | chokurdakh\n",
      "Processing Record 38 of Set 13 | clyde river\n",
      "Processing Record 39 of Set 13 | san cristobal\n",
      "Processing Record 40 of Set 13 | husavik\n",
      "Processing Record 41 of Set 13 | benjamin hill\n",
      "Processing Record 42 of Set 13 | vaini\n",
      "Processing Record 43 of Set 13 | camana\n",
      "Processing Record 44 of Set 13 | xining\n",
      "Processing Record 45 of Set 13 | nyurba\n",
      "Processing Record 46 of Set 13 | semey\n",
      "Processing Record 47 of Set 13 | mandiana\n",
      "Processing Record 48 of Set 13 | rawson\n",
      "Processing Record 49 of Set 13 | jamestown\n",
      "Processing Record 50 of Set 13 | leshukonskoye\n",
      "Processing Record 1 of Set 14 | nizhneyansk\n",
      "City not found. Skipping...\n",
      "Processing Record 2 of Set 14 | energeticheskiy\n",
      "Processing Record 3 of Set 14 | havre-saint-pierre\n",
      "Processing Record 4 of Set 14 | bluff\n",
      "Processing Record 5 of Set 14 | tiarei\n",
      "Processing Record 6 of Set 14 | port elizabeth\n",
      "Processing Record 7 of Set 14 | palabuhanratu\n",
      "City not found. Skipping...\n",
      "Processing Record 8 of Set 14 | talnakh\n",
      "Processing Record 9 of Set 14 | kurganinsk\n",
      "Processing Record 10 of Set 14 | dikson\n",
      "Processing Record 11 of Set 14 | illoqqortoormiut\n",
      "City not found. Skipping...\n",
      "Processing Record 12 of Set 14 | bethel\n",
      "Processing Record 13 of Set 14 | yellowknife\n",
      "Processing Record 14 of Set 14 | chuy\n",
      "Processing Record 15 of Set 14 | hermanus\n",
      "Processing Record 16 of Set 14 | mathathane\n",
      "Processing Record 17 of Set 14 | castro\n",
      "Processing Record 18 of Set 14 | bredasdorp\n",
      "Processing Record 19 of Set 14 | adrar\n",
      "Processing Record 20 of Set 14 | kodiak\n",
      "Processing Record 21 of Set 14 | sataua\n",
      "City not found. Skipping...\n",
      "Processing Record 22 of Set 14 | coquimbo\n",
      "Processing Record 23 of Set 14 | pevek\n",
      "Processing Record 24 of Set 14 | simpang rengam\n",
      "City not found. Skipping...\n",
      "Processing Record 25 of Set 14 | busselton\n",
      "Processing Record 26 of Set 14 | grand gaube\n",
      "Processing Record 27 of Set 14 | belaya gora\n",
      "Processing Record 28 of Set 14 | cabo san lucas\n",
      "Processing Record 29 of Set 14 | vostok\n",
      "Processing Record 30 of Set 14 | kuzhorskaya\n",
      "Processing Record 31 of Set 14 | kapaa\n",
      "Processing Record 32 of Set 14 | cavalcante\n",
      "Processing Record 33 of Set 14 | vila velha\n",
      "Processing Record 34 of Set 14 | potosi\n",
      "Processing Record 35 of Set 14 | qaanaaq\n",
      "Processing Record 36 of Set 14 | tiksi\n",
      "Processing Record 37 of Set 14 | atuona\n",
      "Processing Record 38 of Set 14 | mount gambier\n",
      "Processing Record 39 of Set 14 | tynda\n",
      "Processing Record 40 of Set 14 | amapa\n",
      "Processing Record 41 of Set 14 | fortuna\n",
      "Processing Record 42 of Set 14 | tianpeng\n",
      "Processing Record 43 of Set 14 | oranjemund\n",
      "Processing Record 44 of Set 14 | guayaquil\n",
      "Processing Record 45 of Set 14 | zyryanka\n",
      "Processing Record 46 of Set 14 | tumannyy\n",
      "City not found. Skipping...\n",
      "Processing Record 47 of Set 14 | sibu\n",
      "Processing Record 48 of Set 14 | dhandhuka\n",
      "Processing Record 49 of Set 14 | kinablangan\n",
      "Processing Record 50 of Set 14 | lagoa\n",
      "Processing Record 1 of Set 15 | attawapiskat\n",
      "City not found. Skipping...\n",
      "Processing Record 2 of Set 15 | mooi river\n",
      "City not found. Skipping...\n",
      "Processing Record 3 of Set 15 | berwick\n",
      "Processing Record 4 of Set 15 | manicore\n",
      "Processing Record 5 of Set 15 | barrow\n",
      "Processing Record 6 of Set 15 | laurel\n",
      "Processing Record 7 of Set 15 | illapel\n",
      "Processing Record 8 of Set 15 | lorengau\n",
      "Processing Record 9 of Set 15 | saurimo\n",
      "Processing Record 10 of Set 15 | hobart\n",
      "Processing Record 11 of Set 15 | salalah\n",
      "Processing Record 12 of Set 15 | lasa\n",
      "Processing Record 13 of Set 15 | mar del plata\n",
      "Processing Record 14 of Set 15 | naze\n",
      "Processing Record 15 of Set 15 | constitucion\n",
      "Processing Record 16 of Set 15 | bonthe\n",
      "Processing Record 17 of Set 15 | ribeira grande\n",
      "Processing Record 18 of Set 15 | upernavik\n",
      "Processing Record 19 of Set 15 | huilong\n",
      "Processing Record 20 of Set 15 | tekax\n",
      "City not found. Skipping...\n",
      "Processing Record 21 of Set 15 | torbay\n",
      "Processing Record 22 of Set 15 | pangnirtung\n",
      "Processing Record 23 of Set 15 | hobyo\n",
      "Processing Record 24 of Set 15 | lolua\n",
      "City not found. Skipping...\n",
      "Processing Record 25 of Set 15 | arlit\n",
      "Processing Record 26 of Set 15 | cape town\n",
      "Processing Record 27 of Set 15 | geraldton\n",
      "Processing Record 28 of Set 15 | goderich\n",
      "Processing Record 29 of Set 15 | tual\n",
      "Processing Record 30 of Set 15 | kudahuvadhoo\n",
      "Processing Record 31 of Set 15 | bud\n",
      "Processing Record 32 of Set 15 | grand river south east\n",
      "City not found. Skipping...\n",
      "Processing Record 33 of Set 15 | olafsvik\n",
      "Processing Record 34 of Set 15 | georgetown\n",
      "Processing Record 35 of Set 15 | coolum beach\n",
      "Processing Record 36 of Set 15 | vung tau\n",
      "Processing Record 37 of Set 15 | sahrak\n",
      "City not found. Skipping...\n",
      "Processing Record 38 of Set 15 | talagang\n",
      "Processing Record 39 of Set 15 | nemuro\n",
      "Processing Record 40 of Set 15 | egvekinot\n",
      "Processing Record 41 of Set 15 | el arenal\n",
      "Processing Record 42 of Set 15 | udomlya\n",
      "Processing Record 43 of Set 15 | poum\n",
      "Processing Record 44 of Set 15 | sao joao da barra\n",
      "Processing Record 45 of Set 15 | kurkino\n",
      "Processing Record 46 of Set 15 | tuy hoa\n",
      "Processing Record 47 of Set 15 | henties bay\n",
      "Processing Record 48 of Set 15 | zirandaro\n",
      "Processing Record 49 of Set 15 | half moon bay\n",
      "Processing Record 50 of Set 15 | tuatapere\n",
      "Processing Record 1 of Set 16 | assiniboia\n",
      "Processing Record 2 of Set 16 | utena\n",
      "Processing Record 3 of Set 16 | beringovskiy\n",
      "Processing Record 4 of Set 16 | rio grande\n",
      "Processing Record 5 of Set 16 | yumen\n",
      "Processing Record 6 of Set 16 | kikwit\n",
      "Processing Record 7 of Set 16 | yatou\n",
      "Processing Record 8 of Set 16 | luderitz\n",
      "Processing Record 9 of Set 16 | necochea\n",
      "Processing Record 10 of Set 16 | eyl\n",
      "Processing Record 11 of Set 16 | marsa matruh\n",
      "Processing Record 12 of Set 16 | port hardy\n",
      "Processing Record 13 of Set 16 | butaritari\n",
      "Processing Record 14 of Set 16 | ilulissat\n",
      "Processing Record 15 of Set 16 | lormont\n",
      "Processing Record 16 of Set 16 | thompson\n",
      "Processing Record 17 of Set 16 | rudnichnyy\n",
      "Processing Record 18 of Set 16 | harper\n",
      "Processing Record 19 of Set 16 | uberlandia\n",
      "Processing Record 20 of Set 16 | dingle\n",
      "Processing Record 21 of Set 16 | dawlatabad\n",
      "Processing Record 22 of Set 16 | nabire\n",
      "Processing Record 23 of Set 16 | srivardhan\n",
      "Processing Record 24 of Set 16 | verkhniy rohachyk\n",
      "Processing Record 25 of Set 16 | palauig\n",
      "Processing Record 26 of Set 16 | burnie\n",
      "Processing Record 27 of Set 16 | pangkalanbuun\n",
      "Processing Record 28 of Set 16 | zapolyarnyy\n",
      "Processing Record 29 of Set 16 | sentyabrskiy\n",
      "City not found. Skipping...\n",
      "Processing Record 30 of Set 16 | bara\n",
      "Processing Record 31 of Set 16 | quelimane\n",
      "Processing Record 32 of Set 16 | hasaki\n",
      "Processing Record 33 of Set 16 | norman wells\n"
     ]
    },
    {
     "name": "stdout",
     "output_type": "stream",
     "text": [
      "Processing Record 34 of Set 16 | victoria\n",
      "Processing Record 35 of Set 16 | kosonsoy\n",
      "Processing Record 36 of Set 16 | lamar\n",
      "Processing Record 37 of Set 16 | provideniya\n",
      "Processing Record 38 of Set 16 | slave lake\n",
      "Processing Record 39 of Set 16 | amos\n",
      "Processing Record 40 of Set 16 | chapais\n",
      "Processing Record 41 of Set 16 | banjar\n",
      "Processing Record 42 of Set 16 | bani\n",
      "Processing Record 43 of Set 16 | vestmannaeyjar\n",
      "Processing Record 44 of Set 16 | ketchikan\n",
      "Processing Record 45 of Set 16 | rena\n",
      "Processing Record 46 of Set 16 | namibe\n",
      "Processing Record 47 of Set 16 | contratacion\n",
      "Processing Record 48 of Set 16 | tuggurt\n",
      "City not found. Skipping...\n",
      "Processing Record 49 of Set 16 | samusu\n",
      "City not found. Skipping...\n",
      "Processing Record 50 of Set 16 | grande prairie\n",
      "Processing Record 1 of Set 17 | comodoro rivadavia\n",
      "Processing Record 2 of Set 17 | meyungs\n",
      "City not found. Skipping...\n",
      "Processing Record 3 of Set 17 | fredericksburg\n",
      "Processing Record 4 of Set 17 | kamenskoye\n",
      "City not found. Skipping...\n",
      "Processing Record 5 of Set 17 | riyadh\n",
      "Processing Record 6 of Set 17 | kavieng\n",
      "Processing Record 7 of Set 17 | las vegas\n",
      "Processing Record 8 of Set 17 | veraval\n",
      "Processing Record 9 of Set 17 | merauke\n",
      "Processing Record 10 of Set 17 | lebu\n",
      "Processing Record 11 of Set 17 | aginskoye\n",
      "Processing Record 12 of Set 17 | severo-yeniseyskiy\n",
      "Processing Record 13 of Set 17 | pali\n",
      "Processing Record 14 of Set 17 | nikolskoye\n",
      "Processing Record 15 of Set 17 | alofi\n",
      "Processing Record 16 of Set 17 | bambous virieux\n",
      "Processing Record 17 of Set 17 | mount isa\n",
      "Processing Record 18 of Set 17 | wajima\n",
      "Processing Record 19 of Set 17 | okhotsk\n",
      "Processing Record 20 of Set 17 | sisian\n",
      "Processing Record 21 of Set 17 | souillac\n",
      "Processing Record 22 of Set 17 | huarmey\n",
      "Processing Record 23 of Set 17 | ingham\n",
      "Processing Record 24 of Set 17 | sobolevo\n",
      "Processing Record 25 of Set 17 | mitu\n",
      "Processing Record 26 of Set 17 | bandarbeyla\n",
      "Processing Record 27 of Set 17 | nelson bay\n",
      "Processing Record 28 of Set 17 | santander jimenez\n",
      "Processing Record 29 of Set 17 | baykit\n",
      "Processing Record 30 of Set 17 | umea\n",
      "Processing Record 31 of Set 17 | gilgit\n",
      "Processing Record 32 of Set 17 | jalapa\n",
      "Processing Record 33 of Set 17 | cidreira\n",
      "Processing Record 34 of Set 17 | sinegorye\n",
      "Processing Record 35 of Set 17 | wamba\n",
      "Processing Record 36 of Set 17 | mys shmidta\n",
      "City not found. Skipping...\n",
      "Processing Record 37 of Set 17 | broome\n",
      "Processing Record 38 of Set 17 | wanning\n",
      "Processing Record 39 of Set 17 | maoming\n",
      "Processing Record 40 of Set 17 | kapoeta\n",
      "Processing Record 41 of Set 17 | mizan teferi\n",
      "Processing Record 42 of Set 17 | bilma\n",
      "Processing Record 43 of Set 17 | guerrero negro\n",
      "Processing Record 44 of Set 17 | heswall\n",
      "Processing Record 45 of Set 17 | tuktoyaktuk\n",
      "Processing Record 46 of Set 17 | cayenne\n",
      "Processing Record 47 of Set 17 | tautira\n",
      "Processing Record 48 of Set 17 | manokwari\n",
      "Processing Record 49 of Set 17 | qaqortoq\n",
      "Processing Record 50 of Set 17 | barentsburg\n",
      "City not found. Skipping...\n",
      "Processing Record 1 of Set 18 | pereleshinskiy\n",
      "Processing Record 2 of Set 18 | kesennuma\n",
      "City not found. Skipping...\n",
      "Processing Record 3 of Set 18 | avera\n",
      "Processing Record 4 of Set 18 | pacific grove\n",
      "Processing Record 5 of Set 18 | ngunguru\n",
      "Processing Record 6 of Set 18 | lavrentiya\n",
      "Processing Record 7 of Set 18 | richards bay\n",
      "Processing Record 8 of Set 18 | skalistyy\n",
      "City not found. Skipping...\n",
      "Processing Record 9 of Set 18 | flinders\n",
      "Processing Record 10 of Set 18 | iqaluit\n",
      "Processing Record 11 of Set 18 | hithadhoo\n",
      "Processing Record 12 of Set 18 | sechura\n",
      "Processing Record 13 of Set 18 | belushya guba\n",
      "City not found. Skipping...\n",
      "Processing Record 14 of Set 18 | rochegda\n",
      "Processing Record 15 of Set 18 | tallahassee\n",
      "Processing Record 16 of Set 18 | gushikawa\n",
      "Processing Record 17 of Set 18 | arkhangelos\n",
      "City not found. Skipping...\n",
      "Processing Record 18 of Set 18 | murray bridge\n",
      "Processing Record 19 of Set 18 | saint george\n",
      "Processing Record 20 of Set 18 | saskylakh\n",
      "Processing Record 21 of Set 18 | carauari\n",
      "Processing Record 22 of Set 18 | muswellbrook\n",
      "Processing Record 23 of Set 18 | faanui\n",
      "Processing Record 24 of Set 18 | takoradi\n",
      "Processing Record 25 of Set 18 | buin\n",
      "Processing Record 26 of Set 18 | muros\n",
      "Processing Record 27 of Set 18 | lompoc\n",
      "Processing Record 28 of Set 18 | esperance\n",
      "Processing Record 29 of Set 18 | irtyshskiy\n",
      "Processing Record 30 of Set 18 | haibowan\n",
      "City not found. Skipping...\n",
      "Processing Record 31 of Set 18 | rocha\n",
      "Processing Record 32 of Set 18 | mikun\n",
      "Processing Record 33 of Set 18 | saleaula\n",
      "City not found. Skipping...\n",
      "Processing Record 34 of Set 18 | jos\n",
      "Processing Record 35 of Set 18 | teknaf\n",
      "Processing Record 36 of Set 18 | warman\n",
      "Processing Record 37 of Set 18 | vila franca do campo\n",
      "Processing Record 38 of Set 18 | port pirie\n",
      "Processing Record 39 of Set 18 | dukat\n",
      "Processing Record 40 of Set 18 | pirot\n",
      "Processing Record 41 of Set 18 | bathsheba\n",
      "Processing Record 42 of Set 18 | tarabuco\n",
      "Processing Record 43 of Set 18 | neryungri\n",
      "Processing Record 44 of Set 18 | gonaives\n",
      "Processing Record 45 of Set 18 | sao felix do xingu\n",
      "Processing Record 46 of Set 18 | pringsewu\n",
      "Processing Record 47 of Set 18 | sayat\n",
      "Processing Record 48 of Set 18 | waingapu\n",
      "Processing Record 49 of Set 18 | saint-gaudens\n",
      "Processing Record 50 of Set 18 | katsuura\n",
      "Processing Record 1 of Set 19 | isla vista\n",
      "Processing Record 2 of Set 19 | togur\n",
      "Processing Record 3 of Set 19 | san carlos\n",
      "Processing Record 4 of Set 19 | saint-philippe\n",
      "Processing Record 5 of Set 19 | kaitangata\n",
      "Processing Record 6 of Set 19 | melfi\n",
      "Processing Record 7 of Set 19 | hilton head island\n",
      "Processing Record 8 of Set 19 | patacamaya\n",
      "Processing Record 9 of Set 19 | ayr\n",
      "Processing Record 10 of Set 19 | centralia\n",
      "Processing Record 11 of Set 19 | ancud\n",
      "Processing Record 12 of Set 19 | kuala terengganu\n",
      "Processing Record 13 of Set 19 | meulaboh\n",
      "Processing Record 14 of Set 19 | marystown\n",
      "Processing Record 15 of Set 19 | ponta do sol\n",
      "Processing Record 16 of Set 19 | porto novo\n",
      "Processing Record 17 of Set 19 | coihueco\n",
      "Processing Record 18 of Set 19 | mnogovershinnyy\n",
      "Processing Record 19 of Set 19 | east brainerd\n",
      "Processing Record 20 of Set 19 | puchov\n",
      "Processing Record 21 of Set 19 | thinadhoo\n",
      "Processing Record 22 of Set 19 | la ronge\n",
      "Processing Record 23 of Set 19 | nguiu\n",
      "City not found. Skipping...\n",
      "Processing Record 24 of Set 19 | whitianga\n",
      "Processing Record 25 of Set 19 | iquitos\n",
      "Processing Record 26 of Set 19 | luoyang\n",
      "Processing Record 27 of Set 19 | timmins\n",
      "Processing Record 28 of Set 19 | puerto carreno\n",
      "Processing Record 29 of Set 19 | khani\n",
      "Processing Record 30 of Set 19 | kisaran\n",
      "Processing Record 31 of Set 19 | teneguiban\n",
      "City not found. Skipping...\n",
      "Processing Record 32 of Set 19 | poronaysk\n",
      "Processing Record 33 of Set 19 | srednekolymsk\n",
      "Processing Record 34 of Set 19 | grindavik\n",
      "Processing Record 35 of Set 19 | najran\n",
      "Processing Record 36 of Set 19 | reconquista\n",
      "Processing Record 37 of Set 19 | bellevue\n",
      "Processing Record 38 of Set 19 | airai\n",
      "Processing Record 39 of Set 19 | ust-maya\n",
      "Processing Record 40 of Set 19 | langxiang\n",
      "Processing Record 41 of Set 19 | umzimvubu\n",
      "City not found. Skipping...\n",
      "Processing Record 42 of Set 19 | mumbwa\n",
      "Processing Record 43 of Set 19 | bengkulu\n",
      "Processing Record 44 of Set 19 | vacaria\n",
      "Processing Record 45 of Set 19 | waddan\n",
      "Processing Record 46 of Set 19 | hun\n",
      "Processing Record 47 of Set 19 | the pas\n",
      "Processing Record 48 of Set 19 | pomichna\n",
      "Processing Record 49 of Set 19 | nuuk\n",
      "Processing Record 50 of Set 19 | saint-francois\n",
      "Processing Record 1 of Set 20 | port macquarie\n",
      "Processing Record 2 of Set 20 | sergeyevka\n",
      "Processing Record 3 of Set 20 | madang\n",
      "Processing Record 4 of Set 20 | ilhabela\n",
      "Processing Record 5 of Set 20 | baiyin\n",
      "Processing Record 6 of Set 20 | cherskiy\n",
      "Processing Record 7 of Set 20 | dindori\n",
      "Processing Record 8 of Set 20 | marzuq\n",
      "Processing Record 9 of Set 20 | beisfjord\n",
      "Processing Record 10 of Set 20 | mehamn\n",
      "Processing Record 11 of Set 20 | urumqi\n",
      "Processing Record 12 of Set 20 | pemangkat\n",
      "Processing Record 13 of Set 20 | cururupu\n",
      "Processing Record 14 of Set 20 | dudinka\n",
      "Processing Record 15 of Set 20 | alta\n",
      "Processing Record 16 of Set 20 | tsihombe\n",
      "City not found. Skipping...\n",
      "Processing Record 17 of Set 20 | shumikha\n"
     ]
    },
    {
     "name": "stdout",
     "output_type": "stream",
     "text": [
      "Processing Record 18 of Set 20 | oliveira dos brejinhos\n",
      "Processing Record 19 of Set 20 | lishu\n",
      "Processing Record 20 of Set 20 | kismayo\n",
      "Processing Record 21 of Set 20 | valdivia\n",
      "Processing Record 22 of Set 20 | suntar\n",
      "Processing Record 23 of Set 20 | hualmay\n",
      "Processing Record 24 of Set 20 | luganville\n",
      "Processing Record 25 of Set 20 | korcula\n",
      "Processing Record 26 of Set 20 | fort nelson\n",
      "Processing Record 27 of Set 20 | araguaina\n",
      "Processing Record 28 of Set 20 | lac du bonnet\n",
      "Processing Record 29 of Set 20 | jinka\n",
      "Processing Record 30 of Set 20 | kampene\n",
      "Processing Record 31 of Set 20 | tezu\n",
      "Processing Record 32 of Set 20 | severo-kurilsk\n",
      "Processing Record 33 of Set 20 | san quintin\n",
      "Processing Record 34 of Set 20 | sitka\n",
      "Processing Record 35 of Set 20 | bonnyville\n",
      "Processing Record 36 of Set 20 | ushtobe\n",
      "Processing Record 37 of Set 20 | ahipara\n",
      "Processing Record 38 of Set 20 | leh\n",
      "Processing Record 39 of Set 20 | narsaq\n",
      "Processing Record 40 of Set 20 | tabiauea\n",
      "City not found. Skipping...\n",
      "Processing Record 41 of Set 20 | simpang\n",
      "Processing Record 42 of Set 20 | mao\n",
      "Processing Record 43 of Set 20 | dunda\n",
      "Processing Record 44 of Set 20 | linqiong\n",
      "Processing Record 45 of Set 20 | pisco\n",
      "Processing Record 46 of Set 20 | vaitupu\n",
      "City not found. Skipping...\n",
      "Processing Record 47 of Set 20 | yanan\n",
      "City not found. Skipping...\n",
      "Processing Record 48 of Set 20 | manta\n",
      "Processing Record 49 of Set 20 | iowa city\n",
      "Processing Record 50 of Set 20 | huainan\n",
      "Processing Record 1 of Set 21 | mujiayingzi\n",
      "Processing Record 2 of Set 21 | monte patria\n",
      "Processing Record 3 of Set 21 | roma\n",
      "Processing Record 4 of Set 21 | maloshuyka\n",
      "City not found. Skipping...\n",
      "Processing Record 5 of Set 21 | duartina\n",
      "Processing Record 6 of Set 21 | mana\n",
      "Processing Record 7 of Set 21 | puerto del rosario\n",
      "Processing Record 8 of Set 21 | carnduff\n",
      "Processing Record 9 of Set 21 | leningradskiy\n",
      "Processing Record 10 of Set 21 | edd\n",
      "Processing Record 11 of Set 21 | sinnamary\n",
      "Processing Record 12 of Set 21 | kahului\n",
      "Processing Record 13 of Set 21 | iisalmi\n",
      "Processing Record 14 of Set 21 | inhambane\n",
      "Processing Record 15 of Set 21 | jabiru\n",
      "City not found. Skipping...\n",
      "Processing Record 16 of Set 21 | betki\n",
      "City not found. Skipping...\n",
      "Processing Record 17 of Set 21 | manono\n",
      "Processing Record 18 of Set 21 | tidore\n",
      "City not found. Skipping...\n",
      "Processing Record 19 of Set 21 | cap-aux-meules\n",
      "Processing Record 20 of Set 21 | sedhiou\n",
      "Processing Record 21 of Set 21 | soe\n",
      "Processing Record 22 of Set 21 | halifax\n",
      "Processing Record 23 of Set 21 | isfana\n",
      "Processing Record 24 of Set 21 | louisbourg\n",
      "City not found. Skipping...\n",
      "Processing Record 25 of Set 21 | amderma\n",
      "City not found. Skipping...\n",
      "Processing Record 26 of Set 21 | samalaeulu\n",
      "City not found. Skipping...\n",
      "Processing Record 27 of Set 21 | smila\n",
      "Processing Record 28 of Set 21 | varberg\n",
      "Processing Record 29 of Set 21 | quatre cocos\n",
      "Processing Record 30 of Set 21 | stendal\n",
      "Processing Record 31 of Set 21 | blackwater\n",
      "Processing Record 32 of Set 21 | namatanai\n",
      "Processing Record 33 of Set 21 | miri\n",
      "Processing Record 34 of Set 21 | mahebourg\n",
      "Processing Record 35 of Set 21 | hirara\n",
      "Processing Record 36 of Set 21 | sokoto\n",
      "Processing Record 37 of Set 21 | cockburn town\n",
      "Processing Record 38 of Set 21 | vao\n",
      "Processing Record 39 of Set 21 | chantada\n",
      "Processing Record 40 of Set 21 | muisne\n",
      "Processing Record 41 of Set 21 | hami\n",
      "Processing Record 42 of Set 21 | khandyga\n",
      "Processing Record 43 of Set 21 | nouadhibou\n",
      "Processing Record 44 of Set 21 | takaka\n",
      "Processing Record 45 of Set 21 | shirokiy\n",
      "Processing Record 46 of Set 21 | warri\n",
      "Processing Record 47 of Set 21 | darhan\n",
      "Processing Record 48 of Set 21 | goundam\n",
      "Processing Record 49 of Set 21 | condoto\n",
      "Processing Record 50 of Set 21 | padang\n",
      "Processing Record 1 of Set 22 | nisia floresta\n",
      "Processing Record 2 of Set 22 | pozhva\n",
      "Processing Record 3 of Set 22 | barbar\n",
      "City not found. Skipping...\n",
      "Processing Record 4 of Set 22 | port-gentil\n",
      "Processing Record 5 of Set 22 | pasighat\n",
      "Processing Record 6 of Set 22 | ranot\n",
      "Processing Record 7 of Set 22 | quesnel\n",
      "Processing Record 8 of Set 22 | oktyabrskiy\n",
      "Processing Record 9 of Set 22 | antalaha\n",
      "Processing Record 10 of Set 22 | ankazoabo\n",
      "Processing Record 11 of Set 22 | gat\n",
      "Processing Record 12 of Set 22 | santa eulalia del rio\n",
      "City not found. Skipping...\n",
      "Processing Record 13 of Set 22 | santa isabel do rio negro\n",
      "Processing Record 14 of Set 22 | kamaishi\n",
      "Processing Record 15 of Set 22 | cam ranh\n",
      "Processing Record 16 of Set 22 | san luis\n",
      "Processing Record 17 of Set 22 | union city\n",
      "Processing Record 18 of Set 22 | springdale\n",
      "Processing Record 19 of Set 22 | haines junction\n",
      "Processing Record 20 of Set 22 | taperoa\n",
      "Processing Record 21 of Set 22 | lespezi\n",
      "Processing Record 22 of Set 22 | the valley\n",
      "Processing Record 23 of Set 22 | samarai\n",
      "Processing Record 24 of Set 22 | aktash\n",
      "Processing Record 25 of Set 22 | dasoguz\n",
      "Processing Record 26 of Set 22 | kuching\n",
      "Processing Record 27 of Set 22 | saint-pierre\n",
      "Processing Record 28 of Set 22 | hofn\n",
      "Processing Record 29 of Set 22 | kipini\n",
      "Processing Record 30 of Set 22 | christchurch\n",
      "Processing Record 31 of Set 22 | tura\n",
      "Processing Record 32 of Set 22 | arti\n",
      "Processing Record 33 of Set 22 | aragarcas\n",
      "Processing Record 34 of Set 22 | tripoli\n",
      "Processing Record 35 of Set 22 | maralal\n",
      "Processing Record 36 of Set 22 | gravdal\n",
      "Processing Record 37 of Set 22 | daxian\n",
      "City not found. Skipping...\n",
      "Processing Record 38 of Set 22 | morelos\n",
      "Processing Record 39 of Set 22 | ambovombe\n",
      "Processing Record 40 of Set 22 | vicosa do ceara\n",
      "Processing Record 41 of Set 22 | sena madureira\n",
      "Processing Record 42 of Set 22 | jinchang\n",
      "Processing Record 43 of Set 22 | aksu\n",
      "Processing Record 44 of Set 22 | high rock\n",
      "Processing Record 45 of Set 22 | churapcha\n",
      "Processing Record 46 of Set 22 | dinar\n",
      "Processing Record 47 of Set 22 | port lincoln\n",
      "Processing Record 48 of Set 22 | akdagmadeni\n",
      "Processing Record 49 of Set 22 | ossora\n",
      "Processing Record 50 of Set 22 | lima\n",
      "Processing Record 1 of Set 23 | san juan\n",
      "Processing Record 2 of Set 23 | xichang\n",
      "Processing Record 3 of Set 23 | marcona\n",
      "City not found. Skipping...\n",
      "Processing Record 4 of Set 23 | ostrovnoy\n",
      "Processing Record 5 of Set 23 | ji-parana\n",
      "City not found. Skipping...\n",
      "Processing Record 6 of Set 23 | tilichiki\n",
      "Processing Record 7 of Set 23 | caravelas\n",
      "Processing Record 8 of Set 23 | ampanihy\n",
      "Processing Record 9 of Set 23 | ous\n",
      "Processing Record 10 of Set 23 | carhuamayo\n",
      "Processing Record 11 of Set 23 | stavern\n",
      "Processing Record 12 of Set 23 | galiwinku\n",
      "City not found. Skipping...\n",
      "Processing Record 13 of Set 23 | abu samrah\n",
      "Processing Record 14 of Set 23 | buala\n",
      "Processing Record 15 of Set 23 | rocky mount\n",
      "Processing Record 16 of Set 23 | antofagasta\n",
      "Processing Record 17 of Set 23 | salumbar\n",
      "Processing Record 18 of Set 23 | ojinaga\n",
      "Processing Record 19 of Set 23 | dzaoudzi\n",
      "Processing Record 20 of Set 23 | nouakchott\n",
      "Processing Record 21 of Set 23 | marrakesh\n",
      "Processing Record 22 of Set 23 | tanshui\n",
      "City not found. Skipping...\n",
      "Processing Record 23 of Set 23 | tessaoua\n",
      "Processing Record 24 of Set 23 | fukue\n",
      "Processing Record 25 of Set 23 | coahuayana\n",
      "Processing Record 26 of Set 23 | tula\n",
      "Processing Record 27 of Set 23 | mayo\n",
      "Processing Record 28 of Set 23 | chalchihuites\n",
      "Processing Record 29 of Set 23 | abu dhabi\n",
      "Processing Record 30 of Set 23 | czersk\n",
      "Processing Record 31 of Set 23 | shiyan\n",
      "Processing Record 32 of Set 23 | te anau\n",
      "Processing Record 33 of Set 23 | qeshm\n",
      "Processing Record 34 of Set 23 | dunkwa\n",
      "Processing Record 35 of Set 23 | panormos\n",
      "Processing Record 36 of Set 23 | san patricio\n",
      "Processing Record 37 of Set 23 | leopoldina\n",
      "Processing Record 38 of Set 23 | kirakira\n",
      "Processing Record 39 of Set 23 | lodja\n",
      "Processing Record 40 of Set 23 | karakose\n",
      "City not found. Skipping...\n",
      "Processing Record 41 of Set 23 | lata\n",
      "Processing Record 42 of Set 23 | bodden town\n",
      "Processing Record 43 of Set 23 | ken caryl\n",
      "Processing Record 44 of Set 23 | ketchenery\n",
      "City not found. Skipping...\n",
      "Processing Record 45 of Set 23 | mezen\n",
      "Processing Record 46 of Set 23 | songjianghe\n",
      "Processing Record 47 of Set 23 | price\n",
      "Processing Record 48 of Set 23 | zorritos\n",
      "Processing Record 49 of Set 23 | yerbogachen\n",
      "Processing Record 50 of Set 23 | cabedelo\n"
     ]
    },
    {
     "name": "stdout",
     "output_type": "stream",
     "text": [
      "Processing Record 1 of Set 24 | moree\n",
      "Processing Record 2 of Set 24 | killybegs\n",
      "Processing Record 3 of Set 24 | los llanos de aridane\n",
      "Processing Record 4 of Set 24 | kampot\n",
      "Processing Record 5 of Set 24 | kununurra\n",
      "Processing Record 6 of Set 24 | nowy dwor gdanski\n",
      "Processing Record 7 of Set 24 | andevoranto\n",
      "City not found. Skipping...\n",
      "Processing Record 8 of Set 24 | oranjestad\n",
      "Processing Record 9 of Set 24 | turukhansk\n",
      "Processing Record 10 of Set 24 | tuensang\n",
      "Processing Record 11 of Set 24 | boa vista\n",
      "Processing Record 12 of Set 24 | mantua\n",
      "Processing Record 13 of Set 24 | itoman\n",
      "Processing Record 14 of Set 24 | chara\n",
      "Processing Record 15 of Set 24 | pinar del rio\n",
      "Processing Record 16 of Set 24 | grand junction\n",
      "Processing Record 17 of Set 24 | sur\n",
      "Processing Record 18 of Set 24 | taoudenni\n",
      "Processing Record 19 of Set 24 | lazaro cardenas\n",
      "Processing Record 20 of Set 24 | zhanaozen\n",
      "Processing Record 21 of Set 24 | north bend\n",
      "Processing Record 22 of Set 24 | morant bay\n",
      "Processing Record 23 of Set 24 | mercedes\n",
      "Processing Record 24 of Set 24 | nador\n",
      "Processing Record 25 of Set 24 | rawannawi\n",
      "City not found. Skipping...\n",
      "Processing Record 26 of Set 24 | salamiyah\n",
      "Processing Record 27 of Set 24 | elblag\n",
      "Processing Record 28 of Set 24 | ust-karsk\n",
      "Processing Record 29 of Set 24 | artyk\n",
      "City not found. Skipping...\n",
      "Processing Record 30 of Set 24 | nanakuli\n",
      "Processing Record 31 of Set 24 | nushki\n",
      "Processing Record 32 of Set 24 | safranbolu\n",
      "Processing Record 33 of Set 24 | joshimath\n",
      "Processing Record 34 of Set 24 | shetpe\n",
      "Processing Record 35 of Set 24 | karamea\n",
      "City not found. Skipping...\n",
      "Processing Record 36 of Set 24 | karaul\n",
      "City not found. Skipping...\n",
      "Processing Record 37 of Set 24 | ranong\n",
      "Processing Record 38 of Set 24 | thomasville\n",
      "Processing Record 39 of Set 24 | verkhniye kigi\n",
      "Processing Record 40 of Set 24 | nacimiento\n",
      "Processing Record 41 of Set 24 | salinas\n",
      "Processing Record 42 of Set 24 | seabra\n",
      "Processing Record 43 of Set 24 | oksfjord\n",
      "Processing Record 44 of Set 24 | fairbanks\n",
      "Processing Record 45 of Set 24 | charlottesville\n",
      "Processing Record 46 of Set 24 | nantucket\n",
      "Processing Record 47 of Set 24 | saint anthony\n",
      "Processing Record 48 of Set 24 | homer\n",
      "Processing Record 49 of Set 24 | amberley\n",
      "Processing Record 50 of Set 24 | hamilton\n",
      "Processing Record 1 of Set 25 | coihaique\n",
      "Processing Record 2 of Set 25 | eydhafushi\n",
      "Processing Record 3 of Set 25 | maragogi\n",
      "Processing Record 4 of Set 25 | margate\n",
      "Processing Record 5 of Set 25 | sencha\n",
      "Processing Record 6 of Set 25 | oistins\n",
      "Processing Record 7 of Set 25 | dzilam gonzalez\n",
      "Processing Record 8 of Set 25 | longyearbyen\n",
      "Processing Record 9 of Set 25 | xique-xique\n",
      "Processing Record 10 of Set 25 | praia da vitoria\n",
      "Processing Record 11 of Set 25 | kangaatsiaq\n",
      "Processing Record 12 of Set 25 | falealupo\n",
      "City not found. Skipping...\n",
      "Processing Record 13 of Set 25 | arsenyev\n",
      "Processing Record 14 of Set 25 | alyangula\n",
      "Processing Record 15 of Set 25 | mandalgovi\n",
      "Processing Record 16 of Set 25 | mehran\n",
      "Processing Record 17 of Set 25 | lebedinyy\n",
      "Processing Record 18 of Set 25 | mogadishu\n",
      "Processing Record 19 of Set 25 | dese\n",
      "Processing Record 20 of Set 25 | zyryanovsk\n",
      "Processing Record 21 of Set 25 | marquette\n",
      "Processing Record 22 of Set 25 | dosso\n",
      "Processing Record 23 of Set 25 | boende\n",
      "Processing Record 24 of Set 25 | brae\n",
      "Processing Record 25 of Set 25 | vanimo\n",
      "Processing Record 26 of Set 25 | buraydah\n",
      "Processing Record 27 of Set 25 | valdez\n",
      "Processing Record 28 of Set 25 | kollumerland\n",
      "City not found. Skipping...\n",
      "-----------------------------\n",
      "Data Retrieval Complete      \n",
      "-----------------------------\n"
     ]
    }
   ],
   "source": [
    "# Import Dependencies, and Initialize an Empty List and Counters\n",
    "\n",
    "# Create an empty list to hold the weather data.\n",
    "city_data = []\n",
    "# Print the beginning of the logging.\n",
    "print(\"Beginning Data Retrieval     \")\n",
    "print(\"-----------------------------\")\n",
    "\n",
    "# Create counters.\n",
    "record_count = 1\n",
    "set_count = 1\n",
    "\n",
    "# Loop through all the cities in our list.\n",
    "for i in range(len(cities)):\n",
    "\n",
    "    # Group cities in sets of 50 for logging purposes.\n",
    "    if (i % 50 == 0 and i >= 50):\n",
    "        set_count += 1\n",
    "        record_count = 1\n",
    "    # Create endpoint URL with each city.\n",
    "    city_url = url + \"&q=\" + cities[i]\n",
    "    \n",
    "    # Loop through all the cities in the list.\n",
    "for i, city in enumerate(cities):\n",
    "\n",
    "    # Group cities in sets of 50 for logging purposes.\n",
    "    if (i % 50 == 0 and i >= 50):\n",
    "        set_count += 1\n",
    "        record_count = 1\n",
    "    # Create endpoint URL with each city.\n",
    "    city_url = url + \"&q=\" + city.replace(\" \",\"+\")\n",
    "\n",
    "    # Log the URL, record, and set numbers and the city.\n",
    "    print(f\"Processing Record {record_count} of Set {set_count} | {city}\")\n",
    "    # Add 1 to the record count.\n",
    "    record_count += 1\n",
    "    \n",
    "    # Run an API request for each of the cities.\n",
    "    try:\n",
    "        # Parse the JSON and retrieve data.\n",
    "        city_weather = requests.get(city_url).json()\n",
    "        # Parse out the needed data.\n",
    "        city_lat = city_weather[\"coord\"][\"lat\"]\n",
    "        city_lng = city_weather[\"coord\"][\"lon\"]\n",
    "        city_max_temp = city_weather[\"main\"][\"temp_max\"]\n",
    "        city_humidity = city_weather[\"main\"][\"humidity\"]\n",
    "        city_clouds = city_weather[\"clouds\"][\"all\"]\n",
    "        city_wind = city_weather[\"wind\"][\"speed\"]\n",
    "        city_country = city_weather[\"sys\"][\"country\"]\n",
    "        # Convert the date to ISO standard.\n",
    "        city_date = datetime.utcfromtimestamp(city_weather[\"dt\"]).strftime('%Y-%m-%d %H:%M:%S')\n",
    "        # Append the city information into city_data list.\n",
    "        city_data.append({\"City\": city.title(),\n",
    "                          \"Lat\": city_lat,\n",
    "                          \"Lng\": city_lng,\n",
    "                          \"Max Temp\": city_max_temp,\n",
    "                          \"Humidity\": city_humidity,\n",
    "                          \"Cloudiness\": city_clouds,\n",
    "                          \"Wind Speed\": city_wind,\n",
    "                          \"Country\": city_country,\n",
    "                          \"Date\": city_date})\n",
    "\n",
    "# If an error is experienced, skip the city.\n",
    "    except:\n",
    "        print(\"City not found. Skipping...\")\n",
    "        pass\n",
    "\n",
    "# Indicate that Data Loading is complete.\n",
    "print(\"-----------------------------\")\n",
    "print(\"Data Retrieval Complete      \")\n",
    "print(\"-----------------------------\")"
   ]
  },
  {
   "cell_type": "code",
   "execution_count": 15,
   "id": "ambient-bookmark",
   "metadata": {},
   "outputs": [
    {
     "data": {
      "text/html": [
       "<div>\n",
       "<style scoped>\n",
       "    .dataframe tbody tr th:only-of-type {\n",
       "        vertical-align: middle;\n",
       "    }\n",
       "\n",
       "    .dataframe tbody tr th {\n",
       "        vertical-align: top;\n",
       "    }\n",
       "\n",
       "    .dataframe thead th {\n",
       "        text-align: right;\n",
       "    }\n",
       "</style>\n",
       "<table border=\"1\" class=\"dataframe\">\n",
       "  <thead>\n",
       "    <tr style=\"text-align: right;\">\n",
       "      <th></th>\n",
       "      <th>City</th>\n",
       "      <th>Lat</th>\n",
       "      <th>Lng</th>\n",
       "      <th>Max Temp</th>\n",
       "      <th>Humidity</th>\n",
       "      <th>Cloudiness</th>\n",
       "      <th>Wind Speed</th>\n",
       "      <th>Country</th>\n",
       "      <th>Date</th>\n",
       "    </tr>\n",
       "  </thead>\n",
       "  <tbody>\n",
       "    <tr>\n",
       "      <th>0</th>\n",
       "      <td>East London</td>\n",
       "      <td>-33.0153</td>\n",
       "      <td>27.9116</td>\n",
       "      <td>77.94</td>\n",
       "      <td>78</td>\n",
       "      <td>0</td>\n",
       "      <td>4.61</td>\n",
       "      <td>ZA</td>\n",
       "      <td>2021-12-22 06:33:39</td>\n",
       "    </tr>\n",
       "    <tr>\n",
       "      <th>1</th>\n",
       "      <td>Khatanga</td>\n",
       "      <td>71.9667</td>\n",
       "      <td>102.5000</td>\n",
       "      <td>-34.26</td>\n",
       "      <td>100</td>\n",
       "      <td>23</td>\n",
       "      <td>1.10</td>\n",
       "      <td>RU</td>\n",
       "      <td>2021-12-22 06:33:40</td>\n",
       "    </tr>\n",
       "    <tr>\n",
       "      <th>2</th>\n",
       "      <td>Felanitx</td>\n",
       "      <td>39.4696</td>\n",
       "      <td>3.1483</td>\n",
       "      <td>52.45</td>\n",
       "      <td>88</td>\n",
       "      <td>100</td>\n",
       "      <td>3.47</td>\n",
       "      <td>ES</td>\n",
       "      <td>2021-12-22 06:33:40</td>\n",
       "    </tr>\n",
       "    <tr>\n",
       "      <th>3</th>\n",
       "      <td>Sibolga</td>\n",
       "      <td>1.7427</td>\n",
       "      <td>98.7792</td>\n",
       "      <td>83.98</td>\n",
       "      <td>69</td>\n",
       "      <td>100</td>\n",
       "      <td>5.17</td>\n",
       "      <td>ID</td>\n",
       "      <td>2021-12-22 06:33:41</td>\n",
       "    </tr>\n",
       "    <tr>\n",
       "      <th>4</th>\n",
       "      <td>Punta Arenas</td>\n",
       "      <td>-53.1500</td>\n",
       "      <td>-70.9167</td>\n",
       "      <td>50.11</td>\n",
       "      <td>76</td>\n",
       "      <td>40</td>\n",
       "      <td>23.02</td>\n",
       "      <td>CL</td>\n",
       "      <td>2021-12-22 06:33:41</td>\n",
       "    </tr>\n",
       "    <tr>\n",
       "      <th>5</th>\n",
       "      <td>Dunedin</td>\n",
       "      <td>-45.8742</td>\n",
       "      <td>170.5036</td>\n",
       "      <td>56.80</td>\n",
       "      <td>91</td>\n",
       "      <td>98</td>\n",
       "      <td>1.01</td>\n",
       "      <td>NZ</td>\n",
       "      <td>2021-12-22 06:33:42</td>\n",
       "    </tr>\n",
       "    <tr>\n",
       "      <th>6</th>\n",
       "      <td>Porbandar</td>\n",
       "      <td>21.6422</td>\n",
       "      <td>69.6093</td>\n",
       "      <td>76.98</td>\n",
       "      <td>50</td>\n",
       "      <td>100</td>\n",
       "      <td>4.61</td>\n",
       "      <td>IN</td>\n",
       "      <td>2021-12-22 06:33:42</td>\n",
       "    </tr>\n",
       "    <tr>\n",
       "      <th>7</th>\n",
       "      <td>Rikitea</td>\n",
       "      <td>-23.1203</td>\n",
       "      <td>-134.9692</td>\n",
       "      <td>76.64</td>\n",
       "      <td>81</td>\n",
       "      <td>100</td>\n",
       "      <td>13.71</td>\n",
       "      <td>PF</td>\n",
       "      <td>2021-12-22 06:33:43</td>\n",
       "    </tr>\n",
       "    <tr>\n",
       "      <th>8</th>\n",
       "      <td>Saldanha</td>\n",
       "      <td>-33.0117</td>\n",
       "      <td>17.9442</td>\n",
       "      <td>68.05</td>\n",
       "      <td>78</td>\n",
       "      <td>61</td>\n",
       "      <td>7.61</td>\n",
       "      <td>ZA</td>\n",
       "      <td>2021-12-22 06:33:43</td>\n",
       "    </tr>\n",
       "    <tr>\n",
       "      <th>9</th>\n",
       "      <td>Key West</td>\n",
       "      <td>24.5557</td>\n",
       "      <td>-81.7826</td>\n",
       "      <td>75.20</td>\n",
       "      <td>72</td>\n",
       "      <td>20</td>\n",
       "      <td>13.80</td>\n",
       "      <td>US</td>\n",
       "      <td>2021-12-22 06:29:41</td>\n",
       "    </tr>\n",
       "  </tbody>\n",
       "</table>\n",
       "</div>"
      ],
      "text/plain": [
       "           City      Lat       Lng  Max Temp  Humidity  Cloudiness  \\\n",
       "0   East London -33.0153   27.9116     77.94        78           0   \n",
       "1      Khatanga  71.9667  102.5000    -34.26       100          23   \n",
       "2      Felanitx  39.4696    3.1483     52.45        88         100   \n",
       "3       Sibolga   1.7427   98.7792     83.98        69         100   \n",
       "4  Punta Arenas -53.1500  -70.9167     50.11        76          40   \n",
       "5       Dunedin -45.8742  170.5036     56.80        91          98   \n",
       "6     Porbandar  21.6422   69.6093     76.98        50         100   \n",
       "7       Rikitea -23.1203 -134.9692     76.64        81         100   \n",
       "8      Saldanha -33.0117   17.9442     68.05        78          61   \n",
       "9      Key West  24.5557  -81.7826     75.20        72          20   \n",
       "\n",
       "   Wind Speed Country                 Date  \n",
       "0        4.61      ZA  2021-12-22 06:33:39  \n",
       "1        1.10      RU  2021-12-22 06:33:40  \n",
       "2        3.47      ES  2021-12-22 06:33:40  \n",
       "3        5.17      ID  2021-12-22 06:33:41  \n",
       "4       23.02      CL  2021-12-22 06:33:41  \n",
       "5        1.01      NZ  2021-12-22 06:33:42  \n",
       "6        4.61      IN  2021-12-22 06:33:42  \n",
       "7       13.71      PF  2021-12-22 06:33:43  \n",
       "8        7.61      ZA  2021-12-22 06:33:43  \n",
       "9       13.80      US  2021-12-22 06:29:41  "
      ]
     },
     "execution_count": 15,
     "metadata": {},
     "output_type": "execute_result"
    }
   ],
   "source": [
    "# Convert the array of dictionaries to a Pandas DataFrame.\n",
    "city_data_df = pd.DataFrame(city_data)\n",
    "city_data_df.head(10)"
   ]
  },
  {
   "cell_type": "code",
   "execution_count": 17,
   "id": "liked-damage",
   "metadata": {},
   "outputs": [
    {
     "data": {
      "text/html": [
       "<div>\n",
       "<style scoped>\n",
       "    .dataframe tbody tr th:only-of-type {\n",
       "        vertical-align: middle;\n",
       "    }\n",
       "\n",
       "    .dataframe tbody tr th {\n",
       "        vertical-align: top;\n",
       "    }\n",
       "\n",
       "    .dataframe thead th {\n",
       "        text-align: right;\n",
       "    }\n",
       "</style>\n",
       "<table border=\"1\" class=\"dataframe\">\n",
       "  <thead>\n",
       "    <tr style=\"text-align: right;\">\n",
       "      <th></th>\n",
       "      <th>City</th>\n",
       "      <th>Country</th>\n",
       "      <th>Date</th>\n",
       "      <th>Lat</th>\n",
       "      <th>Lng</th>\n",
       "      <th>Max Temp</th>\n",
       "      <th>Humidity</th>\n",
       "      <th>Cloudiness</th>\n",
       "      <th>Wind Speed</th>\n",
       "    </tr>\n",
       "  </thead>\n",
       "  <tbody>\n",
       "    <tr>\n",
       "      <th>0</th>\n",
       "      <td>East London</td>\n",
       "      <td>ZA</td>\n",
       "      <td>2021-12-22 06:33:39</td>\n",
       "      <td>-33.0153</td>\n",
       "      <td>27.9116</td>\n",
       "      <td>77.94</td>\n",
       "      <td>78</td>\n",
       "      <td>0</td>\n",
       "      <td>4.61</td>\n",
       "    </tr>\n",
       "    <tr>\n",
       "      <th>1</th>\n",
       "      <td>Khatanga</td>\n",
       "      <td>RU</td>\n",
       "      <td>2021-12-22 06:33:40</td>\n",
       "      <td>71.9667</td>\n",
       "      <td>102.5000</td>\n",
       "      <td>-34.26</td>\n",
       "      <td>100</td>\n",
       "      <td>23</td>\n",
       "      <td>1.10</td>\n",
       "    </tr>\n",
       "    <tr>\n",
       "      <th>2</th>\n",
       "      <td>Felanitx</td>\n",
       "      <td>ES</td>\n",
       "      <td>2021-12-22 06:33:40</td>\n",
       "      <td>39.4696</td>\n",
       "      <td>3.1483</td>\n",
       "      <td>52.45</td>\n",
       "      <td>88</td>\n",
       "      <td>100</td>\n",
       "      <td>3.47</td>\n",
       "    </tr>\n",
       "    <tr>\n",
       "      <th>3</th>\n",
       "      <td>Sibolga</td>\n",
       "      <td>ID</td>\n",
       "      <td>2021-12-22 06:33:41</td>\n",
       "      <td>1.7427</td>\n",
       "      <td>98.7792</td>\n",
       "      <td>83.98</td>\n",
       "      <td>69</td>\n",
       "      <td>100</td>\n",
       "      <td>5.17</td>\n",
       "    </tr>\n",
       "    <tr>\n",
       "      <th>4</th>\n",
       "      <td>Punta Arenas</td>\n",
       "      <td>CL</td>\n",
       "      <td>2021-12-22 06:33:41</td>\n",
       "      <td>-53.1500</td>\n",
       "      <td>-70.9167</td>\n",
       "      <td>50.11</td>\n",
       "      <td>76</td>\n",
       "      <td>40</td>\n",
       "      <td>23.02</td>\n",
       "    </tr>\n",
       "    <tr>\n",
       "      <th>5</th>\n",
       "      <td>Dunedin</td>\n",
       "      <td>NZ</td>\n",
       "      <td>2021-12-22 06:33:42</td>\n",
       "      <td>-45.8742</td>\n",
       "      <td>170.5036</td>\n",
       "      <td>56.80</td>\n",
       "      <td>91</td>\n",
       "      <td>98</td>\n",
       "      <td>1.01</td>\n",
       "    </tr>\n",
       "    <tr>\n",
       "      <th>6</th>\n",
       "      <td>Porbandar</td>\n",
       "      <td>IN</td>\n",
       "      <td>2021-12-22 06:33:42</td>\n",
       "      <td>21.6422</td>\n",
       "      <td>69.6093</td>\n",
       "      <td>76.98</td>\n",
       "      <td>50</td>\n",
       "      <td>100</td>\n",
       "      <td>4.61</td>\n",
       "    </tr>\n",
       "    <tr>\n",
       "      <th>7</th>\n",
       "      <td>Rikitea</td>\n",
       "      <td>PF</td>\n",
       "      <td>2021-12-22 06:33:43</td>\n",
       "      <td>-23.1203</td>\n",
       "      <td>-134.9692</td>\n",
       "      <td>76.64</td>\n",
       "      <td>81</td>\n",
       "      <td>100</td>\n",
       "      <td>13.71</td>\n",
       "    </tr>\n",
       "    <tr>\n",
       "      <th>8</th>\n",
       "      <td>Saldanha</td>\n",
       "      <td>ZA</td>\n",
       "      <td>2021-12-22 06:33:43</td>\n",
       "      <td>-33.0117</td>\n",
       "      <td>17.9442</td>\n",
       "      <td>68.05</td>\n",
       "      <td>78</td>\n",
       "      <td>61</td>\n",
       "      <td>7.61</td>\n",
       "    </tr>\n",
       "    <tr>\n",
       "      <th>9</th>\n",
       "      <td>Key West</td>\n",
       "      <td>US</td>\n",
       "      <td>2021-12-22 06:29:41</td>\n",
       "      <td>24.5557</td>\n",
       "      <td>-81.7826</td>\n",
       "      <td>75.20</td>\n",
       "      <td>72</td>\n",
       "      <td>20</td>\n",
       "      <td>13.80</td>\n",
       "    </tr>\n",
       "  </tbody>\n",
       "</table>\n",
       "</div>"
      ],
      "text/plain": [
       "           City Country                 Date      Lat       Lng  Max Temp  \\\n",
       "0   East London      ZA  2021-12-22 06:33:39 -33.0153   27.9116     77.94   \n",
       "1      Khatanga      RU  2021-12-22 06:33:40  71.9667  102.5000    -34.26   \n",
       "2      Felanitx      ES  2021-12-22 06:33:40  39.4696    3.1483     52.45   \n",
       "3       Sibolga      ID  2021-12-22 06:33:41   1.7427   98.7792     83.98   \n",
       "4  Punta Arenas      CL  2021-12-22 06:33:41 -53.1500  -70.9167     50.11   \n",
       "5       Dunedin      NZ  2021-12-22 06:33:42 -45.8742  170.5036     56.80   \n",
       "6     Porbandar      IN  2021-12-22 06:33:42  21.6422   69.6093     76.98   \n",
       "7       Rikitea      PF  2021-12-22 06:33:43 -23.1203 -134.9692     76.64   \n",
       "8      Saldanha      ZA  2021-12-22 06:33:43 -33.0117   17.9442     68.05   \n",
       "9      Key West      US  2021-12-22 06:29:41  24.5557  -81.7826     75.20   \n",
       "\n",
       "   Humidity  Cloudiness  Wind Speed  \n",
       "0        78           0        4.61  \n",
       "1       100          23        1.10  \n",
       "2        88         100        3.47  \n",
       "3        69         100        5.17  \n",
       "4        76          40       23.02  \n",
       "5        91          98        1.01  \n",
       "6        50         100        4.61  \n",
       "7        81         100       13.71  \n",
       "8        78          61        7.61  \n",
       "9        72          20       13.80  "
      ]
     },
     "execution_count": 17,
     "metadata": {},
     "output_type": "execute_result"
    }
   ],
   "source": [
    "# reorder the columns as City, Country, Date, Lat, Lng, Max Temp, Humidity, Cloudiness, and Wind Speed\n",
    "\n",
    "new_column_order = [\"City\", \"Country\", \"Date\", \"Lat\", \"Lng\", \"Max Temp\", \"Humidity\", \"Cloudiness\", \"Wind Speed\"]\n",
    "city_data_df = city_data_df[new_column_order]\n",
    "city_data_df.head(10)"
   ]
  },
  {
   "cell_type": "code",
   "execution_count": 18,
   "id": "editorial-emperor",
   "metadata": {},
   "outputs": [],
   "source": [
    "# Create the output file (CSV).\n",
    "output_data_file = \"weather_data/cities.csv\"\n",
    "# Export the City_Data into a CSV.\n",
    "city_data_df.to_csv(output_data_file, index_label=\"City_ID\")"
   ]
  },
  {
   "cell_type": "code",
   "execution_count": 19,
   "id": "heavy-amber",
   "metadata": {},
   "outputs": [],
   "source": [
    "# Plot Latitude vs. Temperature\n",
    "\n",
    "# Extract relevant fields from the DataFrame for plotting.\n",
    "lats = city_data_df[\"Lat\"]\n",
    "max_temps = city_data_df[\"Max Temp\"]\n",
    "humidity = city_data_df[\"Humidity\"]\n",
    "cloudiness = city_data_df[\"Cloudiness\"]\n",
    "wind_speed = city_data_df[\"Wind Speed\"]"
   ]
  },
  {
   "cell_type": "code",
   "execution_count": 20,
   "id": "activated-vitamin",
   "metadata": {},
   "outputs": [
    {
     "data": {
      "image/png": "[encoded data removed]",
      "text/plain": [
       "<Figure size 432x288 with 1 Axes>"
      ]
     },
     "metadata": {
      "needs_background": "light"
     },
     "output_type": "display_data"
    }
   ],
   "source": [
    "# Import time module\n",
    "import time\n",
    "\n",
    "# Build the scatter plot for latitude vs. max temperature.\n",
    "plt.scatter(lats,\n",
    "            max_temps,\n",
    "            edgecolor=\"black\", linewidths=1, marker=\"o\",\n",
    "            alpha=0.8, label=\"Cities\")\n",
    "\n",
    "# Incorporate the other graph properties.\n",
    "plt.title(f\"City Latitude vs. Max Temperature \"+ time.strftime(\"%x\"))\n",
    "plt.ylabel(\"Max Temperature (F)\")\n",
    "plt.xlabel(\"Latitude\")\n",
    "plt.grid(True)\n",
    "\n",
    "# Save the figure.\n",
    "plt.savefig(\"weather_data/Fig1.png\")\n",
    "\n",
    "# Show plot.\n",
    "plt.show()"
   ]
  },
  {
   "cell_type": "code",
   "execution_count": 21,
   "id": "solid-hometown",
   "metadata": {},
   "outputs": [
    {
     "data": {
      "image/png": "[encoded data removed]",
      "text/plain": [
       "<Figure size 432x288 with 1 Axes>"
      ]
     },
     "metadata": {
      "needs_background": "light"
     },
     "output_type": "display_data"
    }
   ],
   "source": [
    "# Build the scatter plots for latitude vs. humidity.\n",
    "plt.scatter(lats,\n",
    "            humidity,\n",
    "            edgecolor=\"black\", linewidths=1, marker=\"o\",\n",
    "            alpha=0.8, label=\"Cities\")\n",
    "\n",
    "# Incorporate the other graph properties.\n",
    "plt.title(f\"City Latitude vs. Humidity \"+ time.strftime(\"%x\"))\n",
    "plt.ylabel(\"Humidity (%)\")\n",
    "plt.xlabel(\"Latitude\")\n",
    "plt.grid(True)\n",
    "# Save the figure.\n",
    "plt.savefig(\"weather_data/Fig2.png\")\n",
    "# Show plot.\n",
    "plt.show()"
   ]
  },
  {
   "cell_type": "code",
   "execution_count": 22,
   "id": "dirty-strap",
   "metadata": {},
   "outputs": [
    {
     "data": {
      "image/png": "[encoded data removed]",
      "text/plain": [
       "<Figure size 432x288 with 1 Axes>"
      ]
     },
     "metadata": {
      "needs_background": "light"
     },
     "output_type": "display_data"
    }
   ],
   "source": [
    "# Build the scatter plots for latitude vs. cloudiness.\n",
    "plt.scatter(lats,\n",
    "            cloudiness,\n",
    "            edgecolor=\"black\", linewidths=1, marker=\"o\",\n",
    "            alpha=0.8, label=\"Cities\")\n",
    "\n",
    "# Incorporate the other graph properties.\n",
    "plt.title(f\"City Latitude vs. Cloudiness (%) \"+ time.strftime(\"%x\"))\n",
    "plt.ylabel(\"Cloudiness (%)\")\n",
    "plt.xlabel(\"Latitude\")\n",
    "plt.grid(True)\n",
    "# Save the figure.\n",
    "plt.savefig(\"weather_data/Fig3.png\")\n",
    "# Show plot.\n",
    "plt.show()"
   ]
  },
  {
   "cell_type": "code",
   "execution_count": 23,
   "id": "indirect-continuity",
   "metadata": {},
   "outputs": [
    {
     "data": {
      "image/png": "[encoded data removed]",
      "text/plain": [
       "<Figure size 432x288 with 1 Axes>"
      ]
     },
     "metadata": {
      "needs_background": "light"
     },
     "output_type": "display_data"
    }
   ],
   "source": [
    "# Build the scatter plots for latitude vs. wind speed.\n",
    "plt.scatter(lats,\n",
    "            wind_speed,\n",
    "            edgecolor=\"black\", linewidths=1, marker=\"o\",\n",
    "            alpha=0.8, label=\"Cities\")\n",
    "\n",
    "# Incorporate the other graph properties.\n",
    "plt.title(f\"City Latitude vs. Wind Speed \"+ time.strftime(\"%x\"))\n",
    "plt.ylabel(\"Wind Speed (mph)\")\n",
    "plt.xlabel(\"Latitude\")\n",
    "plt.grid(True)\n",
    "# Save the figure.\n",
    "plt.savefig(\"weather_data/Fig4.png\")\n",
    "# Show plot.\n",
    "plt.show()"
   ]
  },
  {
   "cell_type": "code",
   "execution_count": 24,
   "id": "focused-heavy",
   "metadata": {},
   "outputs": [],
   "source": [
    "# Create a linear rergression function\n",
    " \n",
    "# Import linregress\n",
    "from scipy.stats import linregress\n",
    "\n",
    "# Create a function to create perform linear regression on the weather data\n",
    "# and plot a regression line and the equation with the data.\n",
    "def plot_linear_regression(x_values, y_values, title, y_label, text_coordinates):\n",
    "\n",
    "    # Run regression on hemisphere weather data.\n",
    "    (slope, intercept, r_value, p_value, std_err) = linregress(x_values, y_values)\n",
    "\n",
    "    # Calculate the regression line \"y values\" from the slope and intercept.\n",
    "    regress_values = x_values * slope + intercept\n",
    "    # Get the equation of the line.\n",
    "    line_eq = \"y = \" + str(round(slope,2)) + \"x + \" + str(round(intercept,2))\n",
    "    # Create a scatter plot and plot the regression line.\n",
    "    plt.scatter(x_values,y_values)\n",
    "    plt.plot(x_values,regress_values,\"r\")\n",
    "    # Annotate the text for the line equation.\n",
    "    plt.annotate(line_eq, text_coordinates, fontsize=15, color=\"red\")\n",
    "    plt.xlabel('Latitude')\n",
    "    plt.ylabel(y_label)\n",
    "    plt.show()\n"
   ]
  },
  {
   "cell_type": "code",
   "execution_count": 25,
   "id": "asian-forestry",
   "metadata": {},
   "outputs": [
    {
     "data": {
      "text/plain": [
       "City                Kanniyakumari\n",
       "Country                        IN\n",
       "Date          2021-12-22 06:30:15\n",
       "Lat                        8.0833\n",
       "Lng                       77.5667\n",
       "Max Temp                    82.98\n",
       "Humidity                       60\n",
       "Cloudiness                     91\n",
       "Wind Speed                  14.92\n",
       "Name: 13, dtype: object"
      ]
     },
     "execution_count": 25,
     "metadata": {},
     "output_type": "execute_result"
    }
   ],
   "source": [
    "# Create the Hemisphere DataFrames\n",
    "# we have southern, but now we need northern, which from the city_data_df\n",
    "# Can use loc method: row = df.loc[row_index]\n",
    "\n",
    "# present information at index 13\n",
    "index13 = city_data_df.loc[13]\n",
    "index13"
   ]
  },
  {
   "cell_type": "code",
   "execution_count": 26,
   "id": "metropolitan-period",
   "metadata": {},
   "outputs": [
    {
     "data": {
      "text/plain": [
       "0      False\n",
       "1       True\n",
       "2       True\n",
       "3       True\n",
       "4      False\n",
       "       ...  \n",
       "567    False\n",
       "568     True\n",
       "569    False\n",
       "570     True\n",
       "571     True\n",
       "Name: Lat, Length: 572, dtype: bool"
      ]
     },
     "execution_count": 26,
     "metadata": {},
     "output_type": "execute_result"
    }
   ],
   "source": [
    "# filter a dataframe based on a value of a row\n",
    "# by northern hemisphere\n",
    "city_data_df[\"Lat\"] >= 0"
   ]
  },
  {
   "cell_type": "code",
   "execution_count": 27,
   "id": "dramatic-nashville",
   "metadata": {},
   "outputs": [
    {
     "data": {
      "text/html": [
       "<div>\n",
       "<style scoped>\n",
       "    .dataframe tbody tr th:only-of-type {\n",
       "        vertical-align: middle;\n",
       "    }\n",
       "\n",
       "    .dataframe tbody tr th {\n",
       "        vertical-align: top;\n",
       "    }\n",
       "\n",
       "    .dataframe thead th {\n",
       "        text-align: right;\n",
       "    }\n",
       "</style>\n",
       "<table border=\"1\" class=\"dataframe\">\n",
       "  <thead>\n",
       "    <tr style=\"text-align: right;\">\n",
       "      <th></th>\n",
       "      <th>City</th>\n",
       "      <th>Country</th>\n",
       "      <th>Date</th>\n",
       "      <th>Lat</th>\n",
       "      <th>Lng</th>\n",
       "      <th>Max Temp</th>\n",
       "      <th>Humidity</th>\n",
       "      <th>Cloudiness</th>\n",
       "      <th>Wind Speed</th>\n",
       "    </tr>\n",
       "  </thead>\n",
       "  <tbody>\n",
       "    <tr>\n",
       "      <th>1</th>\n",
       "      <td>Khatanga</td>\n",
       "      <td>RU</td>\n",
       "      <td>2021-12-22 06:33:40</td>\n",
       "      <td>71.9667</td>\n",
       "      <td>102.5000</td>\n",
       "      <td>-34.26</td>\n",
       "      <td>100</td>\n",
       "      <td>23</td>\n",
       "      <td>1.10</td>\n",
       "    </tr>\n",
       "    <tr>\n",
       "      <th>2</th>\n",
       "      <td>Felanitx</td>\n",
       "      <td>ES</td>\n",
       "      <td>2021-12-22 06:33:40</td>\n",
       "      <td>39.4696</td>\n",
       "      <td>3.1483</td>\n",
       "      <td>52.45</td>\n",
       "      <td>88</td>\n",
       "      <td>100</td>\n",
       "      <td>3.47</td>\n",
       "    </tr>\n",
       "    <tr>\n",
       "      <th>3</th>\n",
       "      <td>Sibolga</td>\n",
       "      <td>ID</td>\n",
       "      <td>2021-12-22 06:33:41</td>\n",
       "      <td>1.7427</td>\n",
       "      <td>98.7792</td>\n",
       "      <td>83.98</td>\n",
       "      <td>69</td>\n",
       "      <td>100</td>\n",
       "      <td>5.17</td>\n",
       "    </tr>\n",
       "    <tr>\n",
       "      <th>6</th>\n",
       "      <td>Porbandar</td>\n",
       "      <td>IN</td>\n",
       "      <td>2021-12-22 06:33:42</td>\n",
       "      <td>21.6422</td>\n",
       "      <td>69.6093</td>\n",
       "      <td>76.98</td>\n",
       "      <td>50</td>\n",
       "      <td>100</td>\n",
       "      <td>4.61</td>\n",
       "    </tr>\n",
       "    <tr>\n",
       "      <th>9</th>\n",
       "      <td>Key West</td>\n",
       "      <td>US</td>\n",
       "      <td>2021-12-22 06:29:41</td>\n",
       "      <td>24.5557</td>\n",
       "      <td>-81.7826</td>\n",
       "      <td>75.20</td>\n",
       "      <td>72</td>\n",
       "      <td>20</td>\n",
       "      <td>13.80</td>\n",
       "    </tr>\n",
       "  </tbody>\n",
       "</table>\n",
       "</div>"
      ],
      "text/plain": [
       "        City Country                 Date      Lat       Lng  Max Temp  \\\n",
       "1   Khatanga      RU  2021-12-22 06:33:40  71.9667  102.5000    -34.26   \n",
       "2   Felanitx      ES  2021-12-22 06:33:40  39.4696    3.1483     52.45   \n",
       "3    Sibolga      ID  2021-12-22 06:33:41   1.7427   98.7792     83.98   \n",
       "6  Porbandar      IN  2021-12-22 06:33:42  21.6422   69.6093     76.98   \n",
       "9   Key West      US  2021-12-22 06:29:41  24.5557  -81.7826     75.20   \n",
       "\n",
       "   Humidity  Cloudiness  Wind Speed  \n",
       "1       100          23        1.10  \n",
       "2        88         100        3.47  \n",
       "3        69         100        5.17  \n",
       "6        50         100        4.61  \n",
       "9        72          20       13.80  "
      ]
     },
     "execution_count": 27,
     "metadata": {},
     "output_type": "execute_result"
    }
   ],
   "source": [
    "# combine the two and get the head()\n",
    "city_data_df.loc[(city_data_df[\"Lat\"] >= 0)].head()"
   ]
  },
  {
   "cell_type": "code",
   "execution_count": 42,
   "id": "technological-section",
   "metadata": {},
   "outputs": [],
   "source": [
    "# Create Northern and Southern Hemisphere DataFrames.\n",
    "northern_hemi_df = city_data_df.loc[(city_data_df[\"Lat\"] >= 0)]\n",
    "southern_hemi_df = city_data_df.loc[(city_data_df[\"Lat\"] < 0)]\n"
   ]
  },
  {
   "cell_type": "code",
   "execution_count": 43,
   "id": "affecting-bones",
   "metadata": {
    "scrolled": true
   },
   "outputs": [
    {
     "data": {
      "image/png": "[encoded data removed]",
      "text/plain": [
       "<Figure size 432x288 with 1 Axes>"
      ]
     },
     "metadata": {
      "needs_background": "light"
     },
     "output_type": "display_data"
    }
   ],
   "source": [
    "# Linear regression on the Northern Hemisphere\n",
    "x_values = northern_hemi_df[\"Lat\"]\n",
    "y_values = northern_hemi_df[\"Max Temp\"]\n",
    "# Call the function.\n",
    "plot_linear_regression(x_values, y_values,\n",
    "                       'Linear Regression on the Northern Hemisphere \\\n",
    "                        for Maximum Temperature', 'Max Temp',(10,40))"
   ]
  },
  {
   "cell_type": "code",
   "execution_count": 44,
   "id": "contained-economics",
   "metadata": {},
   "outputs": [],
   "source": [
    "(slope, intercept, r_value, p_value, std_err) = linregress(x_values, y_values)"
   ]
  },
  {
   "cell_type": "code",
   "execution_count": 45,
   "id": "psychological-peeing",
   "metadata": {},
   "outputs": [
    {
     "data": {
      "text/plain": [
       "-1.395785200400077"
      ]
     },
     "execution_count": 45,
     "metadata": {},
     "output_type": "execute_result"
    }
   ],
   "source": [
    "slope"
   ]
  },
  {
   "cell_type": "code",
   "execution_count": 46,
   "id": "photographic-letters",
   "metadata": {},
   "outputs": [
    {
     "data": {
      "text/plain": [
       "-0.856111405004766"
      ]
     },
     "execution_count": 46,
     "metadata": {},
     "output_type": "execute_result"
    }
   ],
   "source": [
    "r_value"
   ]
  },
  {
   "cell_type": "code",
   "execution_count": 47,
   "id": "deluxe-clause",
   "metadata": {},
   "outputs": [
    {
     "data": {
      "image/png": "[encoded data removed]",
      "text/plain": [
       "<Figure size 432x288 with 1 Axes>"
      ]
     },
     "metadata": {
      "needs_background": "light"
     },
     "output_type": "display_data"
    }
   ],
   "source": [
    "# Linear regression on the Southern Hemisphere\n",
    "x_values = southern_hemi_df[\"Lat\"]\n",
    "y_values = southern_hemi_df[\"Max Temp\"]\n",
    "# Call the function.\n",
    "plot_linear_regression(x_values, y_values,\n",
    "                       'Linear Regression on the Southern Hemisphere \\\n",
    "                        for Maximum Temperature', 'Max Temp',(-50,90))"
   ]
  },
  {
   "cell_type": "code",
   "execution_count": 48,
   "id": "polar-riding",
   "metadata": {},
   "outputs": [],
   "source": [
    "(slope, intercept, r_value, p_value, std_err) = linregress(x_values, y_values)"
   ]
  },
  {
   "cell_type": "code",
   "execution_count": 49,
   "id": "fundamental-disclosure",
   "metadata": {},
   "outputs": [
    {
     "data": {
      "text/plain": [
       "0.4287091369846329"
      ]
     },
     "execution_count": 49,
     "metadata": {},
     "output_type": "execute_result"
    }
   ],
   "source": [
    "r_value"
   ]
  },
  {
   "cell_type": "code",
   "execution_count": null,
   "id": "agreed-vertical",
   "metadata": {},
   "outputs": [],
   "source": [
    "# READING SAYS....\n",
    "\n",
    "# The correlation between the latitude and the maximum temperature is strong to very strong because the r-value is \n",
    "# less than –0.7 for the Northern Hemisphere and greater than 0.7 for the Southern Hemisphere, as shown by the plots here. \n",
    "# This means that as we approach the equator, 0° latitude, the temperatures become warmer. \n",
    "# And when we are further from the equator the temperatures become cooler. Check the r-values for your plots. \n",
    "\n",
    "# My results however say...\n",
    "\n",
    "# Fairly strong for Northern Hemisphere and weak for Southern based on the r_values. Could it be due to it being winter?\n",
    "\n"
   ]
  },
  {
   "cell_type": "code",
   "execution_count": 59,
   "id": "common-archives",
   "metadata": {},
   "outputs": [
    {
     "data": {
      "image/png": "[encoded data removed]",
      "text/plain": [
       "<Figure size 432x288 with 1 Axes>"
      ]
     },
     "metadata": {
      "needs_background": "light"
     },
     "output_type": "display_data"
    }
   ],
   "source": [
    "# Linear regression on the Northern Hemisphere\n",
    "x_values = northern_hemi_df[\"Lat\"]\n",
    "y_values = northern_hemi_df[\"Humidity\"]\n",
    "# Call the function.\n",
    "plot_linear_regression(x_values, y_values,\n",
    "                       'Linear Regression on the Northern Hemisphere \\\n",
    "                        for % Humidity', '% Humidity',(40,10))"
   ]
  },
  {
   "cell_type": "code",
   "execution_count": 60,
   "id": "closed-watson",
   "metadata": {},
   "outputs": [],
   "source": [
    "(slope, intercept, r_value, p_value, std_err) = linregress(x_values, y_values)"
   ]
  },
  {
   "cell_type": "code",
   "execution_count": 61,
   "id": "fantastic-verification",
   "metadata": {},
   "outputs": [
    {
     "data": {
      "text/plain": [
       "0.37662179172726834"
      ]
     },
     "execution_count": 61,
     "metadata": {},
     "output_type": "execute_result"
    }
   ],
   "source": [
    "r_value"
   ]
  },
  {
   "cell_type": "code",
   "execution_count": 62,
   "id": "abstract-basement",
   "metadata": {},
   "outputs": [
    {
     "data": {
      "image/png": "[encoded data removed]",
      "text/plain": [
       "<Figure size 432x288 with 1 Axes>"
      ]
     },
     "metadata": {
      "needs_background": "light"
     },
     "output_type": "display_data"
    }
   ],
   "source": [
    "# Linear regression on the Southern Hemisphere\n",
    "x_values = southern_hemi_df[\"Lat\"]\n",
    "y_values = southern_hemi_df[\"Humidity\"]\n",
    "# Call the function.\n",
    "plot_linear_regression(x_values, y_values,\n",
    "                       'Linear Regression on the Southern Hemisphere \\\n",
    "                        for % Humidity', '% Humidity',(-50,15))"
   ]
  },
  {
   "cell_type": "code",
   "execution_count": 63,
   "id": "hazardous-suggestion",
   "metadata": {},
   "outputs": [],
   "source": [
    "(slope, intercept, r_value, p_value, std_err) = linregress(x_values, y_values)"
   ]
  },
  {
   "cell_type": "code",
   "execution_count": 64,
   "id": "powerful-memory",
   "metadata": {},
   "outputs": [
    {
     "data": {
      "text/plain": [
       "0.3067939110045849"
      ]
     },
     "execution_count": 64,
     "metadata": {},
     "output_type": "execute_result"
    }
   ],
   "source": [
    "r_value"
   ]
  },
  {
   "cell_type": "code",
   "execution_count": 65,
   "id": "public-pavilion",
   "metadata": {},
   "outputs": [],
   "source": [
    "# Both relationships low correlations\n"
   ]
  },
  {
   "cell_type": "code",
   "execution_count": 72,
   "id": "coral-mention",
   "metadata": {},
   "outputs": [
    {
     "data": {
      "image/png": "[encoded data removed]",
      "text/plain": [
       "<Figure size 432x288 with 1 Axes>"
      ]
     },
     "metadata": {
      "needs_background": "light"
     },
     "output_type": "display_data"
    }
   ],
   "source": [
    "# Linear regression on the Northern Hemisphere\n",
    "x_values = northern_hemi_df[\"Lat\"]\n",
    "y_values = northern_hemi_df[\"Cloudiness\"]\n",
    "# Call the function.\n",
    "plot_linear_regression(x_values, y_values,\n",
    "                       'Linear Regression on the Northern Hemisphere \\\n",
    "                        for % Cloudiness', '% Cloudiness',(10,55))"
   ]
  },
  {
   "cell_type": "code",
   "execution_count": 75,
   "id": "treated-addition",
   "metadata": {},
   "outputs": [],
   "source": [
    "(slope, intercept, r_value, p_value, std_err) = linregress(x_values, y_values)"
   ]
  },
  {
   "cell_type": "code",
   "execution_count": 76,
   "id": "copyrighted-tunnel",
   "metadata": {},
   "outputs": [
    {
     "data": {
      "text/plain": [
       "0.14356304622833144"
      ]
     },
     "execution_count": 76,
     "metadata": {},
     "output_type": "execute_result"
    }
   ],
   "source": [
    "r_value"
   ]
  },
  {
   "cell_type": "code",
   "execution_count": 78,
   "id": "brilliant-worse",
   "metadata": {},
   "outputs": [
    {
     "data": {
      "image/png": "[encoded data removed]",
      "text/plain": [
       "<Figure size 432x288 with 1 Axes>"
      ]
     },
     "metadata": {
      "needs_background": "light"
     },
     "output_type": "display_data"
    }
   ],
   "source": [
    "# Linear regression on the Southern Hemisphere\n",
    "x_values = southern_hemi_df[\"Lat\"]\n",
    "y_values = southern_hemi_df[\"Cloudiness\"]\n",
    "# Call the function.\n",
    "plot_linear_regression(x_values, y_values,\n",
    "                       'Linear Regression on the Southern Hemisphere \\\n",
    "                        for % Cloudiness', '% Cloudiness',(-50,60))"
   ]
  },
  {
   "cell_type": "code",
   "execution_count": 79,
   "id": "rubber-backup",
   "metadata": {},
   "outputs": [],
   "source": [
    "(slope, intercept, r_value, p_value, std_err) = linregress(x_values, y_values)"
   ]
  },
  {
   "cell_type": "code",
   "execution_count": 80,
   "id": "abandoned-university",
   "metadata": {},
   "outputs": [
    {
     "data": {
      "text/plain": [
       "0.36051272086296593"
      ]
     },
     "execution_count": 80,
     "metadata": {},
     "output_type": "execute_result"
    }
   ],
   "source": [
    "r_value"
   ]
  },
  {
   "cell_type": "code",
   "execution_count": 82,
   "id": "facial-louis",
   "metadata": {},
   "outputs": [
    {
     "data": {
      "image/png": "[encoded data removed]",
      "text/plain": [
       "<Figure size 432x288 with 1 Axes>"
      ]
     },
     "metadata": {
      "needs_background": "light"
     },
     "output_type": "display_data"
    }
   ],
   "source": [
    "# Linear regression on the Northern Hemisphere\n",
    "x_values = northern_hemi_df[\"Lat\"]\n",
    "y_values = northern_hemi_df[\"Wind Speed\"]\n",
    "# Call the function.\n",
    "plot_linear_regression(x_values, y_values,\n",
    "                       'Linear Regression on the Northern Hemisphere \\\n",
    "                        for Wind Speed', 'Wind Speed',(40,35))"
   ]
  },
  {
   "cell_type": "code",
   "execution_count": 83,
   "id": "amber-tampa",
   "metadata": {},
   "outputs": [],
   "source": [
    "(slope, intercept, r_value, p_value, std_err) = linregress(x_values, y_values)"
   ]
  },
  {
   "cell_type": "code",
   "execution_count": 84,
   "id": "linear-mortality",
   "metadata": {},
   "outputs": [
    {
     "data": {
      "text/plain": [
       "0.08070615544831211"
      ]
     },
     "execution_count": 84,
     "metadata": {},
     "output_type": "execute_result"
    }
   ],
   "source": [
    "r_value"
   ]
  },
  {
   "cell_type": "code",
   "execution_count": 86,
   "id": "false-replication",
   "metadata": {},
   "outputs": [
    {
     "data": {
      "image/png": "[encoded data removed]",
      "text/plain": [
       "<Figure size 432x288 with 1 Axes>"
      ]
     },
     "metadata": {
      "needs_background": "light"
     },
     "output_type": "display_data"
    }
   ],
   "source": [
    "# Linear regression on the Southern Hemisphere\n",
    "x_values = southern_hemi_df[\"Lat\"]\n",
    "y_values = southern_hemi_df[\"Wind Speed\"]\n",
    "# Call the function.\n",
    "plot_linear_regression(x_values, y_values,\n",
    "                       'Linear Regression on the Southern Hemisphere \\\n",
    "                        for Wind Speed', 'Wind Speed',(-50,35))\n"
   ]
  },
  {
   "cell_type": "code",
   "execution_count": 87,
   "id": "gorgeous-document",
   "metadata": {},
   "outputs": [],
   "source": [
    "(slope, intercept, r_value, p_value, std_err) = linregress(x_values, y_values)"
   ]
  },
  {
   "cell_type": "code",
   "execution_count": 88,
   "id": "mathematical-spine",
   "metadata": {},
   "outputs": [
    {
     "data": {
      "text/plain": [
       "-0.3112896048494798"
      ]
     },
     "execution_count": 88,
     "metadata": {},
     "output_type": "execute_result"
    }
   ],
   "source": [
    "r_value"
   ]
  },
  {
   "cell_type": "code",
   "execution_count": null,
   "id": "finished-poverty",
   "metadata": {},
   "outputs": [],
   "source": []
  }
 ],
 "metadata": {
  "kernelspec": {
   "display_name": "Python 3",
   "language": "python",
   "name": "python3"
  },
  "language_info": {
   "codemirror_mode": {
    "name": "ipython",
    "version": 3
   },
   "file_extension": ".py",
   "mimetype": "text/x-python",
   "name": "python",
   "nbconvert_exporter": "python",
   "pygments_lexer": "ipython3",
   "version": "3.8.3"
  }
 },
 "nbformat": 4,
 "nbformat_minor": 5
}
