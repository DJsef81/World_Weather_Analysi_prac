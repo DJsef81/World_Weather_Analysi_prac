{
 "cells": [
  {
   "cell_type": "code",
   "execution_count": 25,
   "id": "buried-financing",
   "metadata": {},
   "outputs": [],
   "source": [
    "# Import the random module.\n",
    "import random\n",
    "# Import the NumPy module.\n",
    "import numpy as np\n",
    "# Import timeit.\n",
    "import timeit"
   ]
  },
  {
   "cell_type": "code",
   "execution_count": 4,
   "id": "canadian-sight",
   "metadata": {},
   "outputs": [],
   "source": [
    "# random."
   ]
  },
  {
   "cell_type": "code",
   "execution_count": 11,
   "id": "imperial-discount",
   "metadata": {},
   "outputs": [
    {
     "data": {
      "text/plain": [
       "22"
      ]
     },
     "execution_count": 11,
     "metadata": {},
     "output_type": "execute_result"
    }
   ],
   "source": [
    "# The randint() Function - Random Integer\n",
    "\n",
    "random.randint(-90, 90)\n"
   ]
  },
  {
   "cell_type": "code",
   "execution_count": 12,
   "id": "described-voice",
   "metadata": {},
   "outputs": [
    {
     "data": {
      "text/plain": [
       "0.3599296454788812"
      ]
     },
     "execution_count": 12,
     "metadata": {},
     "output_type": "execute_result"
    }
   ],
   "source": [
    "# The random() Function\n",
    "random.random()"
   ]
  },
  {
   "cell_type": "code",
   "execution_count": 13,
   "id": "residential-essay",
   "metadata": {},
   "outputs": [
    {
     "data": {
      "text/plain": [
       "87.35917858814238"
      ]
     },
     "execution_count": 13,
     "metadata": {},
     "output_type": "execute_result"
    }
   ],
   "source": [
    "# combine randint and random to generate a random latitude\n",
    "\n",
    "random_number = random.randint(-90, 89) + random.random()\n",
    "random_number"
   ]
  },
  {
   "cell_type": "code",
   "execution_count": 15,
   "id": "illegal-salon",
   "metadata": {},
   "outputs": [
    {
     "data": {
      "text/plain": [
       "[-78.66784296082308,\n",
       " 78.51644235714019,\n",
       " -25.021846644403663,\n",
       " -34.730864358607874,\n",
       " 86.89777419177659,\n",
       " 77.1513598607011,\n",
       " 0.96523370035681,\n",
       " -10.651623715559392,\n",
       " 64.55550159576521,\n",
       " -7.915151011160168]"
      ]
     },
     "execution_count": 15,
     "metadata": {},
     "output_type": "execute_result"
    }
   ],
   "source": [
    "# generate ten random floating-point decimal latitudes between –90 and 89.\n",
    "x = 1\n",
    "latitudes = []\n",
    "while x < 11:\n",
    "    random_lat = random.randint(-90, 89) + random.random()\n",
    "    latitudes.append(random_lat)\n",
    "    x += 1\n",
    "latitudes    "
   ]
  },
  {
   "cell_type": "code",
   "execution_count": 16,
   "id": "neural-region",
   "metadata": {},
   "outputs": [
    {
     "data": {
      "text/plain": [
       "-53"
      ]
     },
     "execution_count": 16,
     "metadata": {},
     "output_type": "execute_result"
    }
   ],
   "source": [
    "# The randrange() Function\n",
    "random.randrange(-90, 90, step=1)"
   ]
  },
  {
   "cell_type": "code",
   "execution_count": 17,
   "id": "piano-detroit",
   "metadata": {},
   "outputs": [
    {
     "data": {
      "text/plain": [
       "-54"
      ]
     },
     "execution_count": 17,
     "metadata": {},
     "output_type": "execute_result"
    }
   ],
   "source": [
    "random.randrange(-90, 90, step=3)"
   ]
  },
  {
   "cell_type": "code",
   "execution_count": 18,
   "id": "golden-formation",
   "metadata": {},
   "outputs": [
    {
     "data": {
      "text/plain": [
       "3.217596821435663"
      ]
     },
     "execution_count": 18,
     "metadata": {},
     "output_type": "execute_result"
    }
   ],
   "source": [
    "# Random Uniform\n",
    "\n",
    "random.uniform(-90, 90)"
   ]
  },
  {
   "cell_type": "code",
   "execution_count": 20,
   "id": "taken-acquisition",
   "metadata": {},
   "outputs": [
    {
     "data": {
      "text/plain": [
       "1.2118446762408155"
      ]
     },
     "execution_count": 20,
     "metadata": {},
     "output_type": "execute_result"
    }
   ],
   "source": [
    "# The NumPy and random Moudles\n",
    "#  to generate a floating-point decimal number between –90.000 and 90.000. \n",
    "# Adding the zeros past the decimal places is optional.\n",
    "np.random.uniform(-90.000, 90.000)\n",
    "\n"
   ]
  },
  {
   "cell_type": "code",
   "execution_count": 24,
   "id": "institutional-check",
   "metadata": {},
   "outputs": [
    {
     "data": {
      "text/plain": [
       "array([ 16.74518137,  82.26241536,  82.69794318,  40.31593555,\n",
       "        74.473101  , -23.11741773, -73.66855203,  16.40965291,\n",
       "       -60.87846903, -50.94424709,   9.37495723,  71.94328881,\n",
       "       -36.5536479 , -89.1616527 ,  53.05139113, -20.05281956,\n",
       "       -57.51347277, -71.01274279, -49.63334562, -54.40654103,\n",
       "       -18.47811952,  56.88138867,  80.83142989, -74.68231782,\n",
       "       -76.12415107,  25.97335556,  65.32447593, -61.21578594,\n",
       "       -78.9479835 ,  56.82382851,   6.63171282,  77.59424587,\n",
       "        67.20204932, -62.75041279,  89.112436  , -22.92384595,\n",
       "       -65.15802865, -24.38260556,   7.88962704, -54.30567569,\n",
       "       -65.24211862, -62.7046019 ,   2.74356436, -30.79424417,\n",
       "        78.29377786,  88.53701693, -74.74810099,  13.56068893,\n",
       "        49.48141693,  49.65332605])"
      ]
     },
     "execution_count": 24,
     "metadata": {},
     "output_type": "execute_result"
    }
   ],
   "source": [
    "# genrate multiple random floating point decimals\n",
    "np.random.uniform(-90.000, 90.000, size=50)"
   ]
  },
  {
   "cell_type": "code",
   "execution_count": 26,
   "id": "effective-impact",
   "metadata": {},
   "outputs": [
    {
     "name": "stdout",
     "output_type": "stream",
     "text": [
      "11.2 µs ± 113 ns per loop (mean ± std. dev. of 7 runs, 100000 loops each)\n"
     ]
    }
   ],
   "source": [
    "# Time the function \n",
    "%timeit np.random.uniform(-90.000, 90.000, size=1500)\n"
   ]
  },
  {
   "cell_type": "code",
   "execution_count": 27,
   "id": "vietnamese-liberty",
   "metadata": {},
   "outputs": [
    {
     "name": "stdout",
     "output_type": "stream",
     "text": [
      "1.09 ms ± 7.73 µs per loop (mean ± std. dev. of 7 runs, 1000 loops each)\n"
     ]
    }
   ],
   "source": [
    "# Time the while loop\n",
    "def latitudes(size):\n",
    "    latitudes = []\n",
    "    x = 0\n",
    "    while x < (size):\n",
    "        random_lat = random.randint(-90, 90) + random.random()\n",
    "        latitudes.append(random_lat)\n",
    "        x += 1\n",
    "    return latitudes\n",
    "# Call the function with 1500.\n",
    "%timeit latitudes(1500)\n"
   ]
  },
  {
   "cell_type": "code",
   "execution_count": 28,
   "id": "organizational-throw",
   "metadata": {},
   "outputs": [
    {
     "name": "stdout",
     "output_type": "stream",
     "text": [
      "1.1 ms ± 18.3 µs per loop (mean ± std. dev. of 7 runs, 1000 loops each)\n"
     ]
    }
   ],
   "source": [
    "# Refactor the code for the while loop with the %timeit magic command and write a for loop that will generate the 1,500 latitudes.\n",
    "def latitudes(size):\n",
    "    latitudes = []\n",
    "    for x in range (0 ,size):\n",
    "        random_lat = random.randint(-90, 90) + random.random()\n",
    "        latitudes.append(random_lat)\n",
    "        x += 1\n",
    "    return latitudes\n",
    "# Call the function with 1500.\n",
    "%timeit latitudes(1500)"
   ]
  },
  {
   "cell_type": "code",
   "execution_count": null,
   "id": "checked-cartridge",
   "metadata": {},
   "outputs": [],
   "source": []
  }
 ],
 "metadata": {
  "kernelspec": {
   "display_name": "Python 3",
   "language": "python",
   "name": "python3"
  },
  "language_info": {
   "codemirror_mode": {
    "name": "ipython",
    "version": 3
   },
   "file_extension": ".py",
   "mimetype": "text/x-python",
   "name": "python",
   "nbconvert_exporter": "python",
   "pygments_lexer": "ipython3",
   "version": "3.8.3"
  }
 },
 "nbformat": 4,
 "nbformat_minor": 5
}
